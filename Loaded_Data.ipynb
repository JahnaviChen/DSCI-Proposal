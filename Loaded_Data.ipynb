{
 "cells": [
  {
   "cell_type": "markdown",
   "metadata": {},
   "source": [
    "Tennis Data "
   ]
  },
  {
   "cell_type": "code",
   "execution_count": 7,
   "metadata": {},
   "outputs": [],
   "source": [
    "library(tidyverse)\n",
    "library(tidymodels)\n",
    "library(repr)\n",
    "options(repr.matrix.max.rows = 6)"
   ]
  },
  {
   "cell_type": "code",
   "execution_count": 19,
   "metadata": {},
   "outputs": [
    {
     "name": "stderr",
     "output_type": "stream",
     "text": [
      "Warning message:\n",
      "“Missing column names filled in: 'X1' [1]”\n",
      "Parsed with column specification:\n",
      "cols(\n",
      "  .default = col_character(),\n",
      "  X1 = \u001b[32mcol_double()\u001b[39m,\n",
      "  `Turned Pro` = \u001b[32mcol_double()\u001b[39m,\n",
      "  Seasons = \u001b[32mcol_double()\u001b[39m,\n",
      "  Titles = \u001b[32mcol_double()\u001b[39m,\n",
      "  `Best Season` = \u001b[32mcol_double()\u001b[39m,\n",
      "  Retired = \u001b[32mcol_double()\u001b[39m,\n",
      "  Masters = \u001b[32mcol_double()\u001b[39m,\n",
      "  `Grand Slams` = \u001b[32mcol_double()\u001b[39m,\n",
      "  `Davis Cups` = \u001b[32mcol_double()\u001b[39m,\n",
      "  `Team Cups` = \u001b[32mcol_double()\u001b[39m,\n",
      "  Olympics = \u001b[32mcol_double()\u001b[39m,\n",
      "  `Weeks at No. 1` = \u001b[32mcol_double()\u001b[39m,\n",
      "  `Tour Finals` = \u001b[32mcol_double()\u001b[39m\n",
      ")\n",
      "\n",
      "See spec(...) for full column specifications.\n",
      "\n"
     ]
    },
    {
     "data": {
      "text/html": [
       "<table>\n",
       "<caption>A spec_tbl_df: 500 × 38</caption>\n",
       "<thead>\n",
       "\t<tr><th scope=col>X1</th><th scope=col>Age</th><th scope=col>Country</th><th scope=col>Plays</th><th scope=col>Wikipedia</th><th scope=col>Current Rank</th><th scope=col>Best Rank</th><th scope=col>Name</th><th scope=col>Backhand</th><th scope=col>Prize Money</th><th scope=col>⋯</th><th scope=col>Facebook</th><th scope=col>Twitter</th><th scope=col>Nicknames</th><th scope=col>Grand Slams</th><th scope=col>Davis Cups</th><th scope=col>Web Site</th><th scope=col>Team Cups</th><th scope=col>Olympics</th><th scope=col>Weeks at No. 1</th><th scope=col>Tour Finals</th></tr>\n",
       "\t<tr><th scope=col>&lt;dbl&gt;</th><th scope=col>&lt;chr&gt;</th><th scope=col>&lt;chr&gt;</th><th scope=col>&lt;chr&gt;</th><th scope=col>&lt;chr&gt;</th><th scope=col>&lt;chr&gt;</th><th scope=col>&lt;chr&gt;</th><th scope=col>&lt;chr&gt;</th><th scope=col>&lt;chr&gt;</th><th scope=col>&lt;chr&gt;</th><th scope=col>⋯</th><th scope=col>&lt;chr&gt;</th><th scope=col>&lt;chr&gt;</th><th scope=col>&lt;chr&gt;</th><th scope=col>&lt;dbl&gt;</th><th scope=col>&lt;dbl&gt;</th><th scope=col>&lt;chr&gt;</th><th scope=col>&lt;dbl&gt;</th><th scope=col>&lt;dbl&gt;</th><th scope=col>&lt;dbl&gt;</th><th scope=col>&lt;dbl&gt;</th></tr>\n",
       "</thead>\n",
       "<tbody>\n",
       "\t<tr><td>0</td><td>26 (25-04-1993)</td><td>Brazil        </td><td>Right-handed</td><td>Wikipedia</td><td>378 (97) </td><td>363 (04-11-2019)</td><td>Oscar Jose Gutierrez</td><td>NA        </td><td>NA          </td><td>⋯</td><td>NA</td><td>NA</td><td>NA</td><td>NA</td><td>NA</td><td>NA</td><td>NA</td><td>NA</td><td>NA</td><td>NA</td></tr>\n",
       "\t<tr><td>1</td><td>18 (22-12-2001)</td><td>United Kingdom</td><td>Left-handed </td><td>Wikipedia</td><td>326 (119)</td><td>316 (14-10-2019)</td><td>Jack Draper         </td><td>Two-handed</td><td>$59,040     </td><td>⋯</td><td>NA</td><td>NA</td><td>NA</td><td>NA</td><td>NA</td><td>NA</td><td>NA</td><td>NA</td><td>NA</td><td>NA</td></tr>\n",
       "\t<tr><td>2</td><td>32 (03-11-1987)</td><td>Slovakia      </td><td>Right-handed</td><td>Wikipedia</td><td>178 (280)</td><td>44 (14-01-2013) </td><td>Lukas Lacko         </td><td>Two-handed</td><td>US$3,261,567</td><td>⋯</td><td>NA</td><td>NA</td><td>NA</td><td>NA</td><td>NA</td><td>NA</td><td>NA</td><td>NA</td><td>NA</td><td>NA</td></tr>\n",
       "\t<tr><td>⋮</td><td>⋮</td><td>⋮</td><td>⋮</td><td>⋮</td><td>⋮</td><td>⋮</td><td>⋮</td><td>⋮</td><td>⋮</td><td>⋱</td><td>⋮</td><td>⋮</td><td>⋮</td><td>⋮</td><td>⋮</td><td>⋮</td><td>⋮</td><td>⋮</td><td>⋮</td><td>⋮</td></tr>\n",
       "\t<tr><td>497</td><td>23 (14-03-1996)</td><td>Netherlands</td><td>Left-handed</td><td>Wikipedia</td><td>495 (60)</td><td>342 (05-08-2019)</td><td>Gijs Brouwer   </td><td>NA        </td><td>NA     </td><td>⋯</td><td>NA</td><td>NA</td><td>NA</td><td>NA</td><td>NA</td><td>NA</td><td>NA</td><td>NA</td><td>NA</td><td>NA</td></tr>\n",
       "\t<tr><td>498</td><td>24 (17-05-1995)</td><td>Ukraine    </td><td>NA         </td><td>Wikipedia</td><td>419 (81)</td><td>419 (20-01-2020)</td><td>Vladyslav Orlov</td><td>NA        </td><td>NA     </td><td>⋯</td><td>NA</td><td>NA</td><td>NA</td><td>NA</td><td>NA</td><td>NA</td><td>NA</td><td>NA</td><td>NA</td><td>NA</td></tr>\n",
       "\t<tr><td>499</td><td>22 (26-03-1997)</td><td>Tunisia    </td><td>Left-handed</td><td>Wikipedia</td><td>451 (69)</td><td>408 (24-12-2018)</td><td>Aziz Dougaz    </td><td>Two-handed</td><td>$61,984</td><td>⋯</td><td>NA</td><td>NA</td><td>NA</td><td>NA</td><td>NA</td><td>NA</td><td>NA</td><td>NA</td><td>NA</td><td>NA</td></tr>\n",
       "</tbody>\n",
       "</table>\n"
      ],
      "text/latex": [
       "A spec\\_tbl\\_df: 500 × 38\n",
       "\\begin{tabular}{lllllllllllllllllllll}\n",
       " X1 & Age & Country & Plays & Wikipedia & Current Rank & Best Rank & Name & Backhand & Prize Money & ⋯ & Facebook & Twitter & Nicknames & Grand Slams & Davis Cups & Web Site & Team Cups & Olympics & Weeks at No. 1 & Tour Finals\\\\\n",
       " <dbl> & <chr> & <chr> & <chr> & <chr> & <chr> & <chr> & <chr> & <chr> & <chr> & ⋯ & <chr> & <chr> & <chr> & <dbl> & <dbl> & <chr> & <dbl> & <dbl> & <dbl> & <dbl>\\\\\n",
       "\\hline\n",
       "\t 0 & 26 (25-04-1993) & Brazil         & Right-handed & Wikipedia & 378 (97)  & 363 (04-11-2019) & Oscar Jose Gutierrez & NA         & NA           & ⋯ & NA & NA & NA & NA & NA & NA & NA & NA & NA & NA\\\\\n",
       "\t 1 & 18 (22-12-2001) & United Kingdom & Left-handed  & Wikipedia & 326 (119) & 316 (14-10-2019) & Jack Draper          & Two-handed & \\$59,040      & ⋯ & NA & NA & NA & NA & NA & NA & NA & NA & NA & NA\\\\\n",
       "\t 2 & 32 (03-11-1987) & Slovakia       & Right-handed & Wikipedia & 178 (280) & 44 (14-01-2013)  & Lukas Lacko          & Two-handed & US\\$3,261,567 & ⋯ & NA & NA & NA & NA & NA & NA & NA & NA & NA & NA\\\\\n",
       "\t ⋮ & ⋮ & ⋮ & ⋮ & ⋮ & ⋮ & ⋮ & ⋮ & ⋮ & ⋮ & ⋱ & ⋮ & ⋮ & ⋮ & ⋮ & ⋮ & ⋮ & ⋮ & ⋮ & ⋮ & ⋮\\\\\n",
       "\t 497 & 23 (14-03-1996) & Netherlands & Left-handed & Wikipedia & 495 (60) & 342 (05-08-2019) & Gijs Brouwer    & NA         & NA      & ⋯ & NA & NA & NA & NA & NA & NA & NA & NA & NA & NA\\\\\n",
       "\t 498 & 24 (17-05-1995) & Ukraine     & NA          & Wikipedia & 419 (81) & 419 (20-01-2020) & Vladyslav Orlov & NA         & NA      & ⋯ & NA & NA & NA & NA & NA & NA & NA & NA & NA & NA\\\\\n",
       "\t 499 & 22 (26-03-1997) & Tunisia     & Left-handed & Wikipedia & 451 (69) & 408 (24-12-2018) & Aziz Dougaz     & Two-handed & \\$61,984 & ⋯ & NA & NA & NA & NA & NA & NA & NA & NA & NA & NA\\\\\n",
       "\\end{tabular}\n"
      ],
      "text/markdown": [
       "\n",
       "A spec_tbl_df: 500 × 38\n",
       "\n",
       "| X1 &lt;dbl&gt; | Age &lt;chr&gt; | Country &lt;chr&gt; | Plays &lt;chr&gt; | Wikipedia &lt;chr&gt; | Current Rank &lt;chr&gt; | Best Rank &lt;chr&gt; | Name &lt;chr&gt; | Backhand &lt;chr&gt; | Prize Money &lt;chr&gt; | ⋯ ⋯ | Facebook &lt;chr&gt; | Twitter &lt;chr&gt; | Nicknames &lt;chr&gt; | Grand Slams &lt;dbl&gt; | Davis Cups &lt;dbl&gt; | Web Site &lt;chr&gt; | Team Cups &lt;dbl&gt; | Olympics &lt;dbl&gt; | Weeks at No. 1 &lt;dbl&gt; | Tour Finals &lt;dbl&gt; |\n",
       "|---|---|---|---|---|---|---|---|---|---|---|---|---|---|---|---|---|---|---|---|---|\n",
       "| 0 | 26 (25-04-1993) | Brazil         | Right-handed | Wikipedia | 378 (97)  | 363 (04-11-2019) | Oscar Jose Gutierrez | NA         | NA           | ⋯ | NA | NA | NA | NA | NA | NA | NA | NA | NA | NA |\n",
       "| 1 | 18 (22-12-2001) | United Kingdom | Left-handed  | Wikipedia | 326 (119) | 316 (14-10-2019) | Jack Draper          | Two-handed | $59,040      | ⋯ | NA | NA | NA | NA | NA | NA | NA | NA | NA | NA |\n",
       "| 2 | 32 (03-11-1987) | Slovakia       | Right-handed | Wikipedia | 178 (280) | 44 (14-01-2013)  | Lukas Lacko          | Two-handed | US$3,261,567 | ⋯ | NA | NA | NA | NA | NA | NA | NA | NA | NA | NA |\n",
       "| ⋮ | ⋮ | ⋮ | ⋮ | ⋮ | ⋮ | ⋮ | ⋮ | ⋮ | ⋮ | ⋱ | ⋮ | ⋮ | ⋮ | ⋮ | ⋮ | ⋮ | ⋮ | ⋮ | ⋮ | ⋮ |\n",
       "| 497 | 23 (14-03-1996) | Netherlands | Left-handed | Wikipedia | 495 (60) | 342 (05-08-2019) | Gijs Brouwer    | NA         | NA      | ⋯ | NA | NA | NA | NA | NA | NA | NA | NA | NA | NA |\n",
       "| 498 | 24 (17-05-1995) | Ukraine     | NA          | Wikipedia | 419 (81) | 419 (20-01-2020) | Vladyslav Orlov | NA         | NA      | ⋯ | NA | NA | NA | NA | NA | NA | NA | NA | NA | NA |\n",
       "| 499 | 22 (26-03-1997) | Tunisia     | Left-handed | Wikipedia | 451 (69) | 408 (24-12-2018) | Aziz Dougaz     | Two-handed | $61,984 | ⋯ | NA | NA | NA | NA | NA | NA | NA | NA | NA | NA |\n",
       "\n"
      ],
      "text/plain": [
       "    X1  Age             Country        Plays        Wikipedia Current Rank\n",
       "1   0   26 (25-04-1993) Brazil         Right-handed Wikipedia 378 (97)    \n",
       "2   1   18 (22-12-2001) United Kingdom Left-handed  Wikipedia 326 (119)   \n",
       "3   2   32 (03-11-1987) Slovakia       Right-handed Wikipedia 178 (280)   \n",
       "⋮   ⋮   ⋮               ⋮              ⋮            ⋮         ⋮           \n",
       "498 497 23 (14-03-1996) Netherlands    Left-handed  Wikipedia 495 (60)    \n",
       "499 498 24 (17-05-1995) Ukraine        NA           Wikipedia 419 (81)    \n",
       "500 499 22 (26-03-1997) Tunisia        Left-handed  Wikipedia 451 (69)    \n",
       "    Best Rank        Name                 Backhand   Prize Money  ⋯ Facebook\n",
       "1   363 (04-11-2019) Oscar Jose Gutierrez NA         NA           ⋯ NA      \n",
       "2   316 (14-10-2019) Jack Draper          Two-handed $59,040      ⋯ NA      \n",
       "3   44 (14-01-2013)  Lukas Lacko          Two-handed US$3,261,567 ⋯ NA      \n",
       "⋮   ⋮                ⋮                    ⋮          ⋮            ⋱ ⋮       \n",
       "498 342 (05-08-2019) Gijs Brouwer         NA         NA           ⋯ NA      \n",
       "499 419 (20-01-2020) Vladyslav Orlov      NA         NA           ⋯ NA      \n",
       "500 408 (24-12-2018) Aziz Dougaz          Two-handed $61,984      ⋯ NA      \n",
       "    Twitter Nicknames Grand Slams Davis Cups Web Site Team Cups Olympics\n",
       "1   NA      NA        NA          NA         NA       NA        NA      \n",
       "2   NA      NA        NA          NA         NA       NA        NA      \n",
       "3   NA      NA        NA          NA         NA       NA        NA      \n",
       "⋮   ⋮       ⋮         ⋮           ⋮          ⋮        ⋮         ⋮       \n",
       "498 NA      NA        NA          NA         NA       NA        NA      \n",
       "499 NA      NA        NA          NA         NA       NA        NA      \n",
       "500 NA      NA        NA          NA         NA       NA        NA      \n",
       "    Weeks at No. 1 Tour Finals\n",
       "1   NA             NA         \n",
       "2   NA             NA         \n",
       "3   NA             NA         \n",
       "⋮   ⋮              ⋮          \n",
       "498 NA             NA         \n",
       "499 NA             NA         \n",
       "500 NA             NA         "
      ]
     },
     "metadata": {},
     "output_type": "display_data"
    }
   ],
   "source": [
    "#read_data\n",
    "player_stats <- read_csv(\"/home/jupyter/DSCI-Proposal/player_stats.csv\")\n",
    "player_stats"
   ]
  },
  {
   "cell_type": "code",
   "execution_count": 40,
   "metadata": {},
   "outputs": [
    {
     "data": {
      "text/html": [
       "<table>\n",
       "<caption>A tibble: 500 × 4</caption>\n",
       "<thead>\n",
       "\t<tr><th scope=col>current_rank</th><th scope=col>best_rank</th><th scope=col>prize_money</th><th scope=col>Seasons</th></tr>\n",
       "\t<tr><th scope=col>&lt;chr&gt;</th><th scope=col>&lt;chr&gt;</th><th scope=col>&lt;chr&gt;</th><th scope=col>&lt;dbl&gt;</th></tr>\n",
       "</thead>\n",
       "<tbody>\n",
       "\t<tr><td>378 (97) </td><td>363 (04-11-2019)</td><td>NA          </td><td>NA</td></tr>\n",
       "\t<tr><td>326 (119)</td><td>316 (14-10-2019)</td><td>$59,040     </td><td>NA</td></tr>\n",
       "\t<tr><td>178 (280)</td><td>44 (14-01-2013) </td><td>US$3,261,567</td><td>14</td></tr>\n",
       "\t<tr><td>⋮</td><td>⋮</td><td>⋮</td><td>⋮</td></tr>\n",
       "\t<tr><td>495 (60)</td><td>342 (05-08-2019)</td><td>NA     </td><td>NA</td></tr>\n",
       "\t<tr><td>419 (81)</td><td>419 (20-01-2020)</td><td>NA     </td><td>NA</td></tr>\n",
       "\t<tr><td>451 (69)</td><td>408 (24-12-2018)</td><td>$61,984</td><td> 2</td></tr>\n",
       "</tbody>\n",
       "</table>\n"
      ],
      "text/latex": [
       "A tibble: 500 × 4\n",
       "\\begin{tabular}{llll}\n",
       " current\\_rank & best\\_rank & prize\\_money & Seasons\\\\\n",
       " <chr> & <chr> & <chr> & <dbl>\\\\\n",
       "\\hline\n",
       "\t 378 (97)  & 363 (04-11-2019) & NA           & NA\\\\\n",
       "\t 326 (119) & 316 (14-10-2019) & \\$59,040      & NA\\\\\n",
       "\t 178 (280) & 44 (14-01-2013)  & US\\$3,261,567 & 14\\\\\n",
       "\t ⋮ & ⋮ & ⋮ & ⋮\\\\\n",
       "\t 495 (60) & 342 (05-08-2019) & NA      & NA\\\\\n",
       "\t 419 (81) & 419 (20-01-2020) & NA      & NA\\\\\n",
       "\t 451 (69) & 408 (24-12-2018) & \\$61,984 &  2\\\\\n",
       "\\end{tabular}\n"
      ],
      "text/markdown": [
       "\n",
       "A tibble: 500 × 4\n",
       "\n",
       "| current_rank &lt;chr&gt; | best_rank &lt;chr&gt; | prize_money &lt;chr&gt; | Seasons &lt;dbl&gt; |\n",
       "|---|---|---|---|\n",
       "| 378 (97)  | 363 (04-11-2019) | NA           | NA |\n",
       "| 326 (119) | 316 (14-10-2019) | $59,040      | NA |\n",
       "| 178 (280) | 44 (14-01-2013)  | US$3,261,567 | 14 |\n",
       "| ⋮ | ⋮ | ⋮ | ⋮ |\n",
       "| 495 (60) | 342 (05-08-2019) | NA      | NA |\n",
       "| 419 (81) | 419 (20-01-2020) | NA      | NA |\n",
       "| 451 (69) | 408 (24-12-2018) | $61,984 |  2 |\n",
       "\n"
      ],
      "text/plain": [
       "    current_rank best_rank        prize_money  Seasons\n",
       "1   378 (97)     363 (04-11-2019) NA           NA     \n",
       "2   326 (119)    316 (14-10-2019) $59,040      NA     \n",
       "3   178 (280)    44 (14-01-2013)  US$3,261,567 14     \n",
       "⋮   ⋮            ⋮                ⋮            ⋮      \n",
       "498 495 (60)     342 (05-08-2019) NA           NA     \n",
       "499 419 (81)     419 (20-01-2020) NA           NA     \n",
       "500 451 (69)     408 (24-12-2018) $61,984       2     "
      ]
     },
     "metadata": {},
     "output_type": "display_data"
    },
    {
     "name": "stderr",
     "output_type": "stream",
     "text": [
      "Warning message:\n",
      "“Too little data to stratify. Unstratified resampling will be used.”\n"
     ]
    },
    {
     "data": {
      "text/html": [
       "<table>\n",
       "<caption>A tibble: 350 × 4</caption>\n",
       "<thead>\n",
       "\t<tr><th scope=col>current_rank</th><th scope=col>best_rank</th><th scope=col>prize_money</th><th scope=col>Seasons</th></tr>\n",
       "\t<tr><th scope=col>&lt;chr&gt;</th><th scope=col>&lt;chr&gt;</th><th scope=col>&lt;chr&gt;</th><th scope=col>&lt;dbl&gt;</th></tr>\n",
       "</thead>\n",
       "<tbody>\n",
       "\t<tr><td>326 (119)</td><td>316 (14-10-2019)</td><td>$59,040   </td><td>NA</td></tr>\n",
       "\t<tr><td>236 (199)</td><td>130 (10-04-2017)</td><td>$374,093  </td><td> 2</td></tr>\n",
       "\t<tr><td>31 (1398)</td><td>31 (20-01-2020) </td><td>$1,517,157</td><td> 5</td></tr>\n",
       "\t<tr><td>⋮</td><td>⋮</td><td>⋮</td><td>⋮</td></tr>\n",
       "\t<tr><td>397 (89)</td><td>394 (18-11-2019)</td><td>$40,724</td><td> 1</td></tr>\n",
       "\t<tr><td>495 (60)</td><td>342 (05-08-2019)</td><td>NA     </td><td>NA</td></tr>\n",
       "\t<tr><td>419 (81)</td><td>419 (20-01-2020)</td><td>NA     </td><td>NA</td></tr>\n",
       "</tbody>\n",
       "</table>\n"
      ],
      "text/latex": [
       "A tibble: 350 × 4\n",
       "\\begin{tabular}{llll}\n",
       " current\\_rank & best\\_rank & prize\\_money & Seasons\\\\\n",
       " <chr> & <chr> & <chr> & <dbl>\\\\\n",
       "\\hline\n",
       "\t 326 (119) & 316 (14-10-2019) & \\$59,040    & NA\\\\\n",
       "\t 236 (199) & 130 (10-04-2017) & \\$374,093   &  2\\\\\n",
       "\t 31 (1398) & 31 (20-01-2020)  & \\$1,517,157 &  5\\\\\n",
       "\t ⋮ & ⋮ & ⋮ & ⋮\\\\\n",
       "\t 397 (89) & 394 (18-11-2019) & \\$40,724 &  1\\\\\n",
       "\t 495 (60) & 342 (05-08-2019) & NA      & NA\\\\\n",
       "\t 419 (81) & 419 (20-01-2020) & NA      & NA\\\\\n",
       "\\end{tabular}\n"
      ],
      "text/markdown": [
       "\n",
       "A tibble: 350 × 4\n",
       "\n",
       "| current_rank &lt;chr&gt; | best_rank &lt;chr&gt; | prize_money &lt;chr&gt; | Seasons &lt;dbl&gt; |\n",
       "|---|---|---|---|\n",
       "| 326 (119) | 316 (14-10-2019) | $59,040    | NA |\n",
       "| 236 (199) | 130 (10-04-2017) | $374,093   |  2 |\n",
       "| 31 (1398) | 31 (20-01-2020)  | $1,517,157 |  5 |\n",
       "| ⋮ | ⋮ | ⋮ | ⋮ |\n",
       "| 397 (89) | 394 (18-11-2019) | $40,724 |  1 |\n",
       "| 495 (60) | 342 (05-08-2019) | NA      | NA |\n",
       "| 419 (81) | 419 (20-01-2020) | NA      | NA |\n",
       "\n"
      ],
      "text/plain": [
       "    current_rank best_rank        prize_money Seasons\n",
       "1   326 (119)    316 (14-10-2019) $59,040     NA     \n",
       "2   236 (199)    130 (10-04-2017) $374,093     2     \n",
       "3   31 (1398)    31 (20-01-2020)  $1,517,157   5     \n",
       "⋮   ⋮            ⋮                ⋮           ⋮      \n",
       "348 397 (89)     394 (18-11-2019) $40,724      1     \n",
       "349 495 (60)     342 (05-08-2019) NA          NA     \n",
       "350 419 (81)     419 (20-01-2020) NA          NA     "
      ]
     },
     "metadata": {},
     "output_type": "display_data"
    },
    {
     "data": {
      "text/html": [
       "<table>\n",
       "<caption>A tibble: 150 × 4</caption>\n",
       "<thead>\n",
       "\t<tr><th scope=col>current_rank</th><th scope=col>best_rank</th><th scope=col>prize_money</th><th scope=col>Seasons</th></tr>\n",
       "\t<tr><th scope=col>&lt;chr&gt;</th><th scope=col>&lt;chr&gt;</th><th scope=col>&lt;chr&gt;</th><th scope=col>&lt;dbl&gt;</th></tr>\n",
       "</thead>\n",
       "<tbody>\n",
       "\t<tr><td>378 (97) </td><td>363 (04-11-2019)</td><td>NA          </td><td>NA</td></tr>\n",
       "\t<tr><td>178 (280)</td><td>44 (14-01-2013) </td><td>US$3,261,567</td><td>14</td></tr>\n",
       "\t<tr><td>183 (273)</td><td>17 (11-01-2016) </td><td>US$6,091,971</td><td>11</td></tr>\n",
       "\t<tr><td>⋮</td><td>⋮</td><td>⋮</td><td>⋮</td></tr>\n",
       "\t<tr><td>382 (95)</td><td>380 (11-11-2019)</td><td>$57,943                                     </td><td>NA</td></tr>\n",
       "\t<tr><td>5 (5890)</td><td>4 (06-11-2017)  </td><td>$22,132,368 15th all-time leader in earnings</td><td>10</td></tr>\n",
       "\t<tr><td>451 (69)</td><td>408 (24-12-2018)</td><td>$61,984                                     </td><td> 2</td></tr>\n",
       "</tbody>\n",
       "</table>\n"
      ],
      "text/latex": [
       "A tibble: 150 × 4\n",
       "\\begin{tabular}{llll}\n",
       " current\\_rank & best\\_rank & prize\\_money & Seasons\\\\\n",
       " <chr> & <chr> & <chr> & <dbl>\\\\\n",
       "\\hline\n",
       "\t 378 (97)  & 363 (04-11-2019) & NA           & NA\\\\\n",
       "\t 178 (280) & 44 (14-01-2013)  & US\\$3,261,567 & 14\\\\\n",
       "\t 183 (273) & 17 (11-01-2016)  & US\\$6,091,971 & 11\\\\\n",
       "\t ⋮ & ⋮ & ⋮ & ⋮\\\\\n",
       "\t 382 (95) & 380 (11-11-2019) & \\$57,943                                      & NA\\\\\n",
       "\t 5 (5890) & 4 (06-11-2017)   & \\$22,132,368 15th all-time leader in earnings & 10\\\\\n",
       "\t 451 (69) & 408 (24-12-2018) & \\$61,984                                      &  2\\\\\n",
       "\\end{tabular}\n"
      ],
      "text/markdown": [
       "\n",
       "A tibble: 150 × 4\n",
       "\n",
       "| current_rank &lt;chr&gt; | best_rank &lt;chr&gt; | prize_money &lt;chr&gt; | Seasons &lt;dbl&gt; |\n",
       "|---|---|---|---|\n",
       "| 378 (97)  | 363 (04-11-2019) | NA           | NA |\n",
       "| 178 (280) | 44 (14-01-2013)  | US$3,261,567 | 14 |\n",
       "| 183 (273) | 17 (11-01-2016)  | US$6,091,971 | 11 |\n",
       "| ⋮ | ⋮ | ⋮ | ⋮ |\n",
       "| 382 (95) | 380 (11-11-2019) | $57,943                                      | NA |\n",
       "| 5 (5890) | 4 (06-11-2017)   | $22,132,368 15th all-time leader in earnings | 10 |\n",
       "| 451 (69) | 408 (24-12-2018) | $61,984                                      |  2 |\n",
       "\n"
      ],
      "text/plain": [
       "    current_rank best_rank        prize_money                                 \n",
       "1   378 (97)     363 (04-11-2019) NA                                          \n",
       "2   178 (280)    44 (14-01-2013)  US$3,261,567                                \n",
       "3   183 (273)    17 (11-01-2016)  US$6,091,971                                \n",
       "⋮   ⋮            ⋮                ⋮                                           \n",
       "148 382 (95)     380 (11-11-2019) $57,943                                     \n",
       "149 5 (5890)     4 (06-11-2017)   $22,132,368 15th all-time leader in earnings\n",
       "150 451 (69)     408 (24-12-2018) $61,984                                     \n",
       "    Seasons\n",
       "1   NA     \n",
       "2   14     \n",
       "3   11     \n",
       "⋮   ⋮      \n",
       "148 NA     \n",
       "149 10     \n",
       "150  2     "
      ]
     },
     "metadata": {},
     "output_type": "display_data"
    }
   ],
   "source": [
    "#select for desired coloumns\n",
    "player_stats_data <- player_stats %>%\n",
    "        rename(current_rank = \"Current Rank\",\n",
    "              best_rank = \"Best Rank\",\n",
    "              prize_money = \"Prize Money\") %>%\n",
    "        select(current_rank, best_rank, prize_money, Seasons) \n",
    "player_stats_data\n",
    "\n",
    "#create_training_data\n",
    "player_stats_split <- initial_split(player_stats_data, prop = 0.70, strata = prize_money)\n",
    "player_train <- training(player_stats_split)\n",
    "player_test <- testing(player_stats_split)\n",
    "\n",
    "\n",
    "player_train\n",
    "player_test\n",
    "\n"
   ]
  },
  {
   "cell_type": "code",
   "execution_count": null,
   "metadata": {},
   "outputs": [],
   "source": []
  }
 ],
 "metadata": {
  "kernelspec": {
   "display_name": "R",
   "language": "R",
   "name": "ir"
  },
  "language_info": {
   "codemirror_mode": "r",
   "file_extension": ".r",
   "mimetype": "text/x-r-source",
   "name": "R",
   "pygments_lexer": "r",
   "version": "4.0.0"
  }
 },
 "nbformat": 4,
 "nbformat_minor": 4
}
