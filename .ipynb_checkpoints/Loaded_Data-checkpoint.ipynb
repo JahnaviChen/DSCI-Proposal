{
 "cells": [
  {
   "cell_type": "markdown",
   "metadata": {},
   "source": [
    "Tennis Data "
   ]
  },
  {
   "cell_type": "markdown",
   "metadata": {},
   "source": [
    "This dataset shows the player stats of the top 500 male tennis players. It shows the age and country of the player. It displays the prize money that each athlete has won over their career by competing and placing in tournaments. A players ranking is determined throughout the season and the tournaments they play in. They gain points for winning games; these points are weighted differently depending on the prestige of the tournament or match. These rankings change on a 52 week basis. Therefore changes in ranks are very common. Our predictive question to answer after data analysis will be: “Can we use the overall ranking of a player to determine how much prize money they will earn?” Our team will use the “Tennis data: Player Stats For Top 500 Players”, to answer the question. We will need to filter through and only use the current rank, best rank, seasons and prize money columns in order to come to a conclusion for our question. "
   ]
  },
  {
   "cell_type": "code",
   "execution_count": 13,
   "metadata": {},
   "outputs": [],
   "source": [
    "library(tidyverse)\n",
    "library(tidymodels)\n",
    "library(repr)\n",
    "options(repr.matrix.max.rows = 6)"
   ]
  },
  {
   "cell_type": "code",
   "execution_count": 12,
   "metadata": {},
   "outputs": [
    {
     "name": "stderr",
     "output_type": "stream",
     "text": [
      "Warning message:\n",
      "“Missing column names filled in: 'X1' [1]”\n",
      "Parsed with column specification:\n",
      "cols(\n",
      "  .default = col_character(),\n",
      "  X1 = \u001b[32mcol_double()\u001b[39m,\n",
      "  `Turned Pro` = \u001b[32mcol_double()\u001b[39m,\n",
      "  Seasons = \u001b[32mcol_double()\u001b[39m,\n",
      "  Titles = \u001b[32mcol_double()\u001b[39m,\n",
      "  `Best Season` = \u001b[32mcol_double()\u001b[39m,\n",
      "  Retired = \u001b[32mcol_double()\u001b[39m,\n",
      "  Masters = \u001b[32mcol_double()\u001b[39m,\n",
      "  `Grand Slams` = \u001b[32mcol_double()\u001b[39m,\n",
      "  `Davis Cups` = \u001b[32mcol_double()\u001b[39m,\n",
      "  `Team Cups` = \u001b[32mcol_double()\u001b[39m,\n",
      "  Olympics = \u001b[32mcol_double()\u001b[39m,\n",
      "  `Weeks at No. 1` = \u001b[32mcol_double()\u001b[39m,\n",
      "  `Tour Finals` = \u001b[32mcol_double()\u001b[39m\n",
      ")\n",
      "\n",
      "See spec(...) for full column specifications.\n",
      "\n"
     ]
    },
    {
     "data": {
      "text/html": [
       "<table>\n",
       "<caption>A spec_tbl_df: 500 × 38</caption>\n",
       "<thead>\n",
       "\t<tr><th scope=col>X1</th><th scope=col>Age</th><th scope=col>Country</th><th scope=col>Plays</th><th scope=col>Wikipedia</th><th scope=col>Current Rank</th><th scope=col>Best Rank</th><th scope=col>Name</th><th scope=col>Backhand</th><th scope=col>Prize Money</th><th scope=col>⋯</th><th scope=col>Facebook</th><th scope=col>Twitter</th><th scope=col>Nicknames</th><th scope=col>Grand Slams</th><th scope=col>Davis Cups</th><th scope=col>Web Site</th><th scope=col>Team Cups</th><th scope=col>Olympics</th><th scope=col>Weeks at No. 1</th><th scope=col>Tour Finals</th></tr>\n",
       "\t<tr><th scope=col>&lt;dbl&gt;</th><th scope=col>&lt;chr&gt;</th><th scope=col>&lt;chr&gt;</th><th scope=col>&lt;chr&gt;</th><th scope=col>&lt;chr&gt;</th><th scope=col>&lt;chr&gt;</th><th scope=col>&lt;chr&gt;</th><th scope=col>&lt;chr&gt;</th><th scope=col>&lt;chr&gt;</th><th scope=col>&lt;chr&gt;</th><th scope=col>⋯</th><th scope=col>&lt;chr&gt;</th><th scope=col>&lt;chr&gt;</th><th scope=col>&lt;chr&gt;</th><th scope=col>&lt;dbl&gt;</th><th scope=col>&lt;dbl&gt;</th><th scope=col>&lt;chr&gt;</th><th scope=col>&lt;dbl&gt;</th><th scope=col>&lt;dbl&gt;</th><th scope=col>&lt;dbl&gt;</th><th scope=col>&lt;dbl&gt;</th></tr>\n",
       "</thead>\n",
       "<tbody>\n",
       "\t<tr><td>0</td><td>26 (25-04-1993)</td><td>Brazil        </td><td>Right-handed</td><td>Wikipedia</td><td>378 (97) </td><td>363 (04-11-2019)</td><td>Oscar Jose Gutierrez</td><td>NA        </td><td>NA          </td><td>⋯</td><td>NA</td><td>NA</td><td>NA</td><td>NA</td><td>NA</td><td>NA</td><td>NA</td><td>NA</td><td>NA</td><td>NA</td></tr>\n",
       "\t<tr><td>1</td><td>18 (22-12-2001)</td><td>United Kingdom</td><td>Left-handed </td><td>Wikipedia</td><td>326 (119)</td><td>316 (14-10-2019)</td><td>Jack Draper         </td><td>Two-handed</td><td>$59,040     </td><td>⋯</td><td>NA</td><td>NA</td><td>NA</td><td>NA</td><td>NA</td><td>NA</td><td>NA</td><td>NA</td><td>NA</td><td>NA</td></tr>\n",
       "\t<tr><td>2</td><td>32 (03-11-1987)</td><td>Slovakia      </td><td>Right-handed</td><td>Wikipedia</td><td>178 (280)</td><td>44 (14-01-2013) </td><td>Lukas Lacko         </td><td>Two-handed</td><td>US$3,261,567</td><td>⋯</td><td>NA</td><td>NA</td><td>NA</td><td>NA</td><td>NA</td><td>NA</td><td>NA</td><td>NA</td><td>NA</td><td>NA</td></tr>\n",
       "\t<tr><td>⋮</td><td>⋮</td><td>⋮</td><td>⋮</td><td>⋮</td><td>⋮</td><td>⋮</td><td>⋮</td><td>⋮</td><td>⋮</td><td>⋱</td><td>⋮</td><td>⋮</td><td>⋮</td><td>⋮</td><td>⋮</td><td>⋮</td><td>⋮</td><td>⋮</td><td>⋮</td><td>⋮</td></tr>\n",
       "\t<tr><td>497</td><td>23 (14-03-1996)</td><td>Netherlands</td><td>Left-handed</td><td>Wikipedia</td><td>495 (60)</td><td>342 (05-08-2019)</td><td>Gijs Brouwer   </td><td>NA        </td><td>NA     </td><td>⋯</td><td>NA</td><td>NA</td><td>NA</td><td>NA</td><td>NA</td><td>NA</td><td>NA</td><td>NA</td><td>NA</td><td>NA</td></tr>\n",
       "\t<tr><td>498</td><td>24 (17-05-1995)</td><td>Ukraine    </td><td>NA         </td><td>Wikipedia</td><td>419 (81)</td><td>419 (20-01-2020)</td><td>Vladyslav Orlov</td><td>NA        </td><td>NA     </td><td>⋯</td><td>NA</td><td>NA</td><td>NA</td><td>NA</td><td>NA</td><td>NA</td><td>NA</td><td>NA</td><td>NA</td><td>NA</td></tr>\n",
       "\t<tr><td>499</td><td>22 (26-03-1997)</td><td>Tunisia    </td><td>Left-handed</td><td>Wikipedia</td><td>451 (69)</td><td>408 (24-12-2018)</td><td>Aziz Dougaz    </td><td>Two-handed</td><td>$61,984</td><td>⋯</td><td>NA</td><td>NA</td><td>NA</td><td>NA</td><td>NA</td><td>NA</td><td>NA</td><td>NA</td><td>NA</td><td>NA</td></tr>\n",
       "</tbody>\n",
       "</table>\n"
      ],
      "text/latex": [
       "A spec\\_tbl\\_df: 500 × 38\n",
       "\\begin{tabular}{lllllllllllllllllllll}\n",
       " X1 & Age & Country & Plays & Wikipedia & Current Rank & Best Rank & Name & Backhand & Prize Money & ⋯ & Facebook & Twitter & Nicknames & Grand Slams & Davis Cups & Web Site & Team Cups & Olympics & Weeks at No. 1 & Tour Finals\\\\\n",
       " <dbl> & <chr> & <chr> & <chr> & <chr> & <chr> & <chr> & <chr> & <chr> & <chr> & ⋯ & <chr> & <chr> & <chr> & <dbl> & <dbl> & <chr> & <dbl> & <dbl> & <dbl> & <dbl>\\\\\n",
       "\\hline\n",
       "\t 0 & 26 (25-04-1993) & Brazil         & Right-handed & Wikipedia & 378 (97)  & 363 (04-11-2019) & Oscar Jose Gutierrez & NA         & NA           & ⋯ & NA & NA & NA & NA & NA & NA & NA & NA & NA & NA\\\\\n",
       "\t 1 & 18 (22-12-2001) & United Kingdom & Left-handed  & Wikipedia & 326 (119) & 316 (14-10-2019) & Jack Draper          & Two-handed & \\$59,040      & ⋯ & NA & NA & NA & NA & NA & NA & NA & NA & NA & NA\\\\\n",
       "\t 2 & 32 (03-11-1987) & Slovakia       & Right-handed & Wikipedia & 178 (280) & 44 (14-01-2013)  & Lukas Lacko          & Two-handed & US\\$3,261,567 & ⋯ & NA & NA & NA & NA & NA & NA & NA & NA & NA & NA\\\\\n",
       "\t ⋮ & ⋮ & ⋮ & ⋮ & ⋮ & ⋮ & ⋮ & ⋮ & ⋮ & ⋮ & ⋱ & ⋮ & ⋮ & ⋮ & ⋮ & ⋮ & ⋮ & ⋮ & ⋮ & ⋮ & ⋮\\\\\n",
       "\t 497 & 23 (14-03-1996) & Netherlands & Left-handed & Wikipedia & 495 (60) & 342 (05-08-2019) & Gijs Brouwer    & NA         & NA      & ⋯ & NA & NA & NA & NA & NA & NA & NA & NA & NA & NA\\\\\n",
       "\t 498 & 24 (17-05-1995) & Ukraine     & NA          & Wikipedia & 419 (81) & 419 (20-01-2020) & Vladyslav Orlov & NA         & NA      & ⋯ & NA & NA & NA & NA & NA & NA & NA & NA & NA & NA\\\\\n",
       "\t 499 & 22 (26-03-1997) & Tunisia     & Left-handed & Wikipedia & 451 (69) & 408 (24-12-2018) & Aziz Dougaz     & Two-handed & \\$61,984 & ⋯ & NA & NA & NA & NA & NA & NA & NA & NA & NA & NA\\\\\n",
       "\\end{tabular}\n"
      ],
      "text/markdown": [
       "\n",
       "A spec_tbl_df: 500 × 38\n",
       "\n",
       "| X1 &lt;dbl&gt; | Age &lt;chr&gt; | Country &lt;chr&gt; | Plays &lt;chr&gt; | Wikipedia &lt;chr&gt; | Current Rank &lt;chr&gt; | Best Rank &lt;chr&gt; | Name &lt;chr&gt; | Backhand &lt;chr&gt; | Prize Money &lt;chr&gt; | ⋯ ⋯ | Facebook &lt;chr&gt; | Twitter &lt;chr&gt; | Nicknames &lt;chr&gt; | Grand Slams &lt;dbl&gt; | Davis Cups &lt;dbl&gt; | Web Site &lt;chr&gt; | Team Cups &lt;dbl&gt; | Olympics &lt;dbl&gt; | Weeks at No. 1 &lt;dbl&gt; | Tour Finals &lt;dbl&gt; |\n",
       "|---|---|---|---|---|---|---|---|---|---|---|---|---|---|---|---|---|---|---|---|---|\n",
       "| 0 | 26 (25-04-1993) | Brazil         | Right-handed | Wikipedia | 378 (97)  | 363 (04-11-2019) | Oscar Jose Gutierrez | NA         | NA           | ⋯ | NA | NA | NA | NA | NA | NA | NA | NA | NA | NA |\n",
       "| 1 | 18 (22-12-2001) | United Kingdom | Left-handed  | Wikipedia | 326 (119) | 316 (14-10-2019) | Jack Draper          | Two-handed | $59,040      | ⋯ | NA | NA | NA | NA | NA | NA | NA | NA | NA | NA |\n",
       "| 2 | 32 (03-11-1987) | Slovakia       | Right-handed | Wikipedia | 178 (280) | 44 (14-01-2013)  | Lukas Lacko          | Two-handed | US$3,261,567 | ⋯ | NA | NA | NA | NA | NA | NA | NA | NA | NA | NA |\n",
       "| ⋮ | ⋮ | ⋮ | ⋮ | ⋮ | ⋮ | ⋮ | ⋮ | ⋮ | ⋮ | ⋱ | ⋮ | ⋮ | ⋮ | ⋮ | ⋮ | ⋮ | ⋮ | ⋮ | ⋮ | ⋮ |\n",
       "| 497 | 23 (14-03-1996) | Netherlands | Left-handed | Wikipedia | 495 (60) | 342 (05-08-2019) | Gijs Brouwer    | NA         | NA      | ⋯ | NA | NA | NA | NA | NA | NA | NA | NA | NA | NA |\n",
       "| 498 | 24 (17-05-1995) | Ukraine     | NA          | Wikipedia | 419 (81) | 419 (20-01-2020) | Vladyslav Orlov | NA         | NA      | ⋯ | NA | NA | NA | NA | NA | NA | NA | NA | NA | NA |\n",
       "| 499 | 22 (26-03-1997) | Tunisia     | Left-handed | Wikipedia | 451 (69) | 408 (24-12-2018) | Aziz Dougaz     | Two-handed | $61,984 | ⋯ | NA | NA | NA | NA | NA | NA | NA | NA | NA | NA |\n",
       "\n"
      ],
      "text/plain": [
       "    X1  Age             Country        Plays        Wikipedia Current Rank\n",
       "1   0   26 (25-04-1993) Brazil         Right-handed Wikipedia 378 (97)    \n",
       "2   1   18 (22-12-2001) United Kingdom Left-handed  Wikipedia 326 (119)   \n",
       "3   2   32 (03-11-1987) Slovakia       Right-handed Wikipedia 178 (280)   \n",
       "⋮   ⋮   ⋮               ⋮              ⋮            ⋮         ⋮           \n",
       "498 497 23 (14-03-1996) Netherlands    Left-handed  Wikipedia 495 (60)    \n",
       "499 498 24 (17-05-1995) Ukraine        NA           Wikipedia 419 (81)    \n",
       "500 499 22 (26-03-1997) Tunisia        Left-handed  Wikipedia 451 (69)    \n",
       "    Best Rank        Name                 Backhand   Prize Money  ⋯ Facebook\n",
       "1   363 (04-11-2019) Oscar Jose Gutierrez NA         NA           ⋯ NA      \n",
       "2   316 (14-10-2019) Jack Draper          Two-handed $59,040      ⋯ NA      \n",
       "3   44 (14-01-2013)  Lukas Lacko          Two-handed US$3,261,567 ⋯ NA      \n",
       "⋮   ⋮                ⋮                    ⋮          ⋮            ⋱ ⋮       \n",
       "498 342 (05-08-2019) Gijs Brouwer         NA         NA           ⋯ NA      \n",
       "499 419 (20-01-2020) Vladyslav Orlov      NA         NA           ⋯ NA      \n",
       "500 408 (24-12-2018) Aziz Dougaz          Two-handed $61,984      ⋯ NA      \n",
       "    Twitter Nicknames Grand Slams Davis Cups Web Site Team Cups Olympics\n",
       "1   NA      NA        NA          NA         NA       NA        NA      \n",
       "2   NA      NA        NA          NA         NA       NA        NA      \n",
       "3   NA      NA        NA          NA         NA       NA        NA      \n",
       "⋮   ⋮       ⋮         ⋮           ⋮          ⋮        ⋮         ⋮       \n",
       "498 NA      NA        NA          NA         NA       NA        NA      \n",
       "499 NA      NA        NA          NA         NA       NA        NA      \n",
       "500 NA      NA        NA          NA         NA       NA        NA      \n",
       "    Weeks at No. 1 Tour Finals\n",
       "1   NA             NA         \n",
       "2   NA             NA         \n",
       "3   NA             NA         \n",
       "⋮   ⋮              ⋮          \n",
       "498 NA             NA         \n",
       "499 NA             NA         \n",
       "500 NA             NA         "
      ]
     },
     "metadata": {},
     "output_type": "display_data"
    }
   ],
   "source": [
    "#read_data\n",
    "url <- \"https://drive.google.com/uc?export=download&id=1_MECmUXZuuILYeEOfonSGqodW6qVdhsS\"\n",
    "player_stats <- read_csv(\"https://drive.google.com/uc?export=download&id=1_MECmUXZuuILYeEOfonSGqodW6qVdhsS\")\n",
    "player_stats"
   ]
  },
  {
   "cell_type": "code",
   "execution_count": 14,
   "metadata": {},
   "outputs": [
    {
     "data": {
      "text/html": [
       "<table>\n",
       "<caption>A tibble: 500 × 4</caption>\n",
       "<thead>\n",
       "\t<tr><th scope=col>current_rank</th><th scope=col>best_rank</th><th scope=col>prize_money</th><th scope=col>Seasons</th></tr>\n",
       "\t<tr><th scope=col>&lt;chr&gt;</th><th scope=col>&lt;chr&gt;</th><th scope=col>&lt;chr&gt;</th><th scope=col>&lt;dbl&gt;</th></tr>\n",
       "</thead>\n",
       "<tbody>\n",
       "\t<tr><td>378 (97) </td><td>363 (04-11-2019)</td><td>NA          </td><td>NA</td></tr>\n",
       "\t<tr><td>326 (119)</td><td>316 (14-10-2019)</td><td>$59,040     </td><td>NA</td></tr>\n",
       "\t<tr><td>178 (280)</td><td>44 (14-01-2013) </td><td>US$3,261,567</td><td>14</td></tr>\n",
       "\t<tr><td>⋮</td><td>⋮</td><td>⋮</td><td>⋮</td></tr>\n",
       "\t<tr><td>495 (60)</td><td>342 (05-08-2019)</td><td>NA     </td><td>NA</td></tr>\n",
       "\t<tr><td>419 (81)</td><td>419 (20-01-2020)</td><td>NA     </td><td>NA</td></tr>\n",
       "\t<tr><td>451 (69)</td><td>408 (24-12-2018)</td><td>$61,984</td><td> 2</td></tr>\n",
       "</tbody>\n",
       "</table>\n"
      ],
      "text/latex": [
       "A tibble: 500 × 4\n",
       "\\begin{tabular}{llll}\n",
       " current\\_rank & best\\_rank & prize\\_money & Seasons\\\\\n",
       " <chr> & <chr> & <chr> & <dbl>\\\\\n",
       "\\hline\n",
       "\t 378 (97)  & 363 (04-11-2019) & NA           & NA\\\\\n",
       "\t 326 (119) & 316 (14-10-2019) & \\$59,040      & NA\\\\\n",
       "\t 178 (280) & 44 (14-01-2013)  & US\\$3,261,567 & 14\\\\\n",
       "\t ⋮ & ⋮ & ⋮ & ⋮\\\\\n",
       "\t 495 (60) & 342 (05-08-2019) & NA      & NA\\\\\n",
       "\t 419 (81) & 419 (20-01-2020) & NA      & NA\\\\\n",
       "\t 451 (69) & 408 (24-12-2018) & \\$61,984 &  2\\\\\n",
       "\\end{tabular}\n"
      ],
      "text/markdown": [
       "\n",
       "A tibble: 500 × 4\n",
       "\n",
       "| current_rank &lt;chr&gt; | best_rank &lt;chr&gt; | prize_money &lt;chr&gt; | Seasons &lt;dbl&gt; |\n",
       "|---|---|---|---|\n",
       "| 378 (97)  | 363 (04-11-2019) | NA           | NA |\n",
       "| 326 (119) | 316 (14-10-2019) | $59,040      | NA |\n",
       "| 178 (280) | 44 (14-01-2013)  | US$3,261,567 | 14 |\n",
       "| ⋮ | ⋮ | ⋮ | ⋮ |\n",
       "| 495 (60) | 342 (05-08-2019) | NA      | NA |\n",
       "| 419 (81) | 419 (20-01-2020) | NA      | NA |\n",
       "| 451 (69) | 408 (24-12-2018) | $61,984 |  2 |\n",
       "\n"
      ],
      "text/plain": [
       "    current_rank best_rank        prize_money  Seasons\n",
       "1   378 (97)     363 (04-11-2019) NA           NA     \n",
       "2   326 (119)    316 (14-10-2019) $59,040      NA     \n",
       "3   178 (280)    44 (14-01-2013)  US$3,261,567 14     \n",
       "⋮   ⋮            ⋮                ⋮            ⋮      \n",
       "498 495 (60)     342 (05-08-2019) NA           NA     \n",
       "499 419 (81)     419 (20-01-2020) NA           NA     \n",
       "500 451 (69)     408 (24-12-2018) $61,984       2     "
      ]
     },
     "metadata": {},
     "output_type": "display_data"
    }
   ],
   "source": [
    "#select for desired coloumns\n",
    "player_stats_data <- player_stats %>%\n",
    "        rename(current_rank = \"Current Rank\",\n",
    "              best_rank = \"Best Rank\",\n",
    "              prize_money = \"Prize Money\") %>%\n",
    "        select(current_rank, best_rank, prize_money, Seasons)\n",
    "player_stats_data"
   ]
  },
  {
   "cell_type": "code",
   "execution_count": 15,
   "metadata": {},
   "outputs": [
    {
     "data": {
      "text/html": [
       "<table>\n",
       "<caption>A tibble: 500 × 4</caption>\n",
       "<thead>\n",
       "\t<tr><th scope=col>current_rank</th><th scope=col>best_rank</th><th scope=col>prize_money</th><th scope=col>Seasons</th></tr>\n",
       "\t<tr><th scope=col>&lt;chr&gt;</th><th scope=col>&lt;chr&gt;</th><th scope=col>&lt;chr&gt;</th><th scope=col>&lt;chr&gt;</th></tr>\n",
       "</thead>\n",
       "<tbody>\n",
       "\t<tr><td>378 (97) </td><td>363 (04-11-2019)</td><td>NA         </td><td>NA</td></tr>\n",
       "\t<tr><td>326 (119)</td><td>316 (14-10-2019)</td><td>59,040     </td><td>NA</td></tr>\n",
       "\t<tr><td>178 (280)</td><td>44 (14-01-2013) </td><td>US3,261,567</td><td>14</td></tr>\n",
       "\t<tr><td>⋮</td><td>⋮</td><td>⋮</td><td>⋮</td></tr>\n",
       "\t<tr><td>495 (60)</td><td>342 (05-08-2019)</td><td>NA    </td><td>NA</td></tr>\n",
       "\t<tr><td>419 (81)</td><td>419 (20-01-2020)</td><td>NA    </td><td>NA</td></tr>\n",
       "\t<tr><td>451 (69)</td><td>408 (24-12-2018)</td><td>61,984</td><td>2 </td></tr>\n",
       "</tbody>\n",
       "</table>\n"
      ],
      "text/latex": [
       "A tibble: 500 × 4\n",
       "\\begin{tabular}{llll}\n",
       " current\\_rank & best\\_rank & prize\\_money & Seasons\\\\\n",
       " <chr> & <chr> & <chr> & <chr>\\\\\n",
       "\\hline\n",
       "\t 378 (97)  & 363 (04-11-2019) & NA          & NA\\\\\n",
       "\t 326 (119) & 316 (14-10-2019) & 59,040      & NA\\\\\n",
       "\t 178 (280) & 44 (14-01-2013)  & US3,261,567 & 14\\\\\n",
       "\t ⋮ & ⋮ & ⋮ & ⋮\\\\\n",
       "\t 495 (60) & 342 (05-08-2019) & NA     & NA\\\\\n",
       "\t 419 (81) & 419 (20-01-2020) & NA     & NA\\\\\n",
       "\t 451 (69) & 408 (24-12-2018) & 61,984 & 2 \\\\\n",
       "\\end{tabular}\n"
      ],
      "text/markdown": [
       "\n",
       "A tibble: 500 × 4\n",
       "\n",
       "| current_rank &lt;chr&gt; | best_rank &lt;chr&gt; | prize_money &lt;chr&gt; | Seasons &lt;chr&gt; |\n",
       "|---|---|---|---|\n",
       "| 378 (97)  | 363 (04-11-2019) | NA          | NA |\n",
       "| 326 (119) | 316 (14-10-2019) | 59,040      | NA |\n",
       "| 178 (280) | 44 (14-01-2013)  | US3,261,567 | 14 |\n",
       "| ⋮ | ⋮ | ⋮ | ⋮ |\n",
       "| 495 (60) | 342 (05-08-2019) | NA     | NA |\n",
       "| 419 (81) | 419 (20-01-2020) | NA     | NA |\n",
       "| 451 (69) | 408 (24-12-2018) | 61,984 | 2  |\n",
       "\n"
      ],
      "text/plain": [
       "    current_rank best_rank        prize_money Seasons\n",
       "1   378 (97)     363 (04-11-2019) NA          NA     \n",
       "2   326 (119)    316 (14-10-2019) 59,040      NA     \n",
       "3   178 (280)    44 (14-01-2013)  US3,261,567 14     \n",
       "⋮   ⋮            ⋮                ⋮           ⋮      \n",
       "498 495 (60)     342 (05-08-2019) NA          NA     \n",
       "499 419 (81)     419 (20-01-2020) NA          NA     \n",
       "500 451 (69)     408 (24-12-2018) 61,984      2      "
      ]
     },
     "metadata": {},
     "output_type": "display_data"
    }
   ],
   "source": [
    "player_stats_data[] <- lapply(player_stats_data, gsub, pattern=\"\\\\$\", replacement=\"\")\n",
    "player_stats_data[]\n",
    "\n",
    "player_stats_data$prize_money <- gsub(\"US\", \"\", as.character(player_stats_data$prize_money))\n",
    "\n"
   ]
  },
  {
   "cell_type": "code",
   "execution_count": 16,
   "metadata": {},
   "outputs": [],
   "source": [
    "current_rank_change <- gsub(\"\\\\s*(\\\\([^()]*(?:(?1)[^()]*)*\\\\))\", \"\", player_stats_data$best_rank, perl=TRUE)\n",
    "best_rank_change <- gsub(\"\\\\s*(\\\\([^()]*(?:(?1)[^()]*)*\\\\))\", \"\", player_stats_data$current_rank, perl=TRUE)"
   ]
  },
  {
   "cell_type": "code",
   "execution_count": 50,
   "metadata": {},
   "outputs": [
    {
     "data": {
      "text/html": [
       "<table>\n",
       "<caption>A tibble: 500 × 4</caption>\n",
       "<thead>\n",
       "\t<tr><th scope=col>current_rank</th><th scope=col>best_rank</th><th scope=col>prize_money</th><th scope=col>Seasons</th></tr>\n",
       "\t<tr><th scope=col>&lt;chr&gt;</th><th scope=col>&lt;chr&gt;</th><th scope=col>&lt;chr&gt;</th><th scope=col>&lt;chr&gt;</th></tr>\n",
       "</thead>\n",
       "<tbody>\n",
       "\t<tr><td>363</td><td>378</td><td>NA       </td><td>NA</td></tr>\n",
       "\t<tr><td>316</td><td>326</td><td>59,040   </td><td>NA</td></tr>\n",
       "\t<tr><td>44 </td><td>178</td><td>3,261,567</td><td>14</td></tr>\n",
       "\t<tr><td>⋮</td><td>⋮</td><td>⋮</td><td>⋮</td></tr>\n",
       "\t<tr><td>342</td><td>495</td><td>NA    </td><td>NA</td></tr>\n",
       "\t<tr><td>419</td><td>419</td><td>NA    </td><td>NA</td></tr>\n",
       "\t<tr><td>408</td><td>451</td><td>61,984</td><td>2 </td></tr>\n",
       "</tbody>\n",
       "</table>\n"
      ],
      "text/latex": [
       "A tibble: 500 × 4\n",
       "\\begin{tabular}{llll}\n",
       " current\\_rank & best\\_rank & prize\\_money & Seasons\\\\\n",
       " <chr> & <chr> & <chr> & <chr>\\\\\n",
       "\\hline\n",
       "\t 363 & 378 & NA        & NA\\\\\n",
       "\t 316 & 326 & 59,040    & NA\\\\\n",
       "\t 44  & 178 & 3,261,567 & 14\\\\\n",
       "\t ⋮ & ⋮ & ⋮ & ⋮\\\\\n",
       "\t 342 & 495 & NA     & NA\\\\\n",
       "\t 419 & 419 & NA     & NA\\\\\n",
       "\t 408 & 451 & 61,984 & 2 \\\\\n",
       "\\end{tabular}\n"
      ],
      "text/markdown": [
       "\n",
       "A tibble: 500 × 4\n",
       "\n",
       "| current_rank &lt;chr&gt; | best_rank &lt;chr&gt; | prize_money &lt;chr&gt; | Seasons &lt;chr&gt; |\n",
       "|---|---|---|---|\n",
       "| 363 | 378 | NA        | NA |\n",
       "| 316 | 326 | 59,040    | NA |\n",
       "| 44  | 178 | 3,261,567 | 14 |\n",
       "| ⋮ | ⋮ | ⋮ | ⋮ |\n",
       "| 342 | 495 | NA     | NA |\n",
       "| 419 | 419 | NA     | NA |\n",
       "| 408 | 451 | 61,984 | 2  |\n",
       "\n"
      ],
      "text/plain": [
       "    current_rank best_rank prize_money Seasons\n",
       "1   363          378       NA          NA     \n",
       "2   316          326       59,040      NA     \n",
       "3   44           178       3,261,567   14     \n",
       "⋮   ⋮            ⋮         ⋮           ⋮      \n",
       "498 342          495       NA          NA     \n",
       "499 419          419       NA          NA     \n",
       "500 408          451       61,984      2      "
      ]
     },
     "metadata": {},
     "output_type": "display_data"
    }
   ],
   "source": [
    "player_stats_mutate <- mutate(player_stats_data,\n",
    "    prize_money = player_stats_data$prize_money,\n",
    "    current_rank = current_rank_change,\n",
    "    best_rank = best_rank_change)\n",
    "player_stats_mutate"
   ]
  },
  {
   "cell_type": "code",
   "execution_count": 51,
   "metadata": {},
   "outputs": [
    {
     "name": "stderr",
     "output_type": "stream",
     "text": [
      "Warning message:\n",
      "“Too little data to stratify. Unstratified resampling will be used.”\n"
     ]
    },
    {
     "data": {
      "text/html": [
       "<table>\n",
       "<caption>A tibble: 350 × 4</caption>\n",
       "<thead>\n",
       "\t<tr><th scope=col>current_rank</th><th scope=col>best_rank</th><th scope=col>prize_money</th><th scope=col>Seasons</th></tr>\n",
       "\t<tr><th scope=col>&lt;chr&gt;</th><th scope=col>&lt;chr&gt;</th><th scope=col>&lt;chr&gt;</th><th scope=col>&lt;chr&gt;</th></tr>\n",
       "</thead>\n",
       "<tbody>\n",
       "\t<tr><td>17 </td><td>183</td><td>6,091,971</td><td>11</td></tr>\n",
       "\t<tr><td>31 </td><td>31 </td><td>1,517,157</td><td>5 </td></tr>\n",
       "\t<tr><td>213</td><td>307</td><td>278,709  </td><td>1 </td></tr>\n",
       "\t<tr><td>⋮</td><td>⋮</td><td>⋮</td><td>⋮</td></tr>\n",
       "\t<tr><td>342</td><td>495</td><td>NA    </td><td>NA</td></tr>\n",
       "\t<tr><td>419</td><td>419</td><td>NA    </td><td>NA</td></tr>\n",
       "\t<tr><td>408</td><td>451</td><td>61,984</td><td>2 </td></tr>\n",
       "</tbody>\n",
       "</table>\n"
      ],
      "text/latex": [
       "A tibble: 350 × 4\n",
       "\\begin{tabular}{llll}\n",
       " current\\_rank & best\\_rank & prize\\_money & Seasons\\\\\n",
       " <chr> & <chr> & <chr> & <chr>\\\\\n",
       "\\hline\n",
       "\t 17  & 183 & 6,091,971 & 11\\\\\n",
       "\t 31  & 31  & 1,517,157 & 5 \\\\\n",
       "\t 213 & 307 & 278,709   & 1 \\\\\n",
       "\t ⋮ & ⋮ & ⋮ & ⋮\\\\\n",
       "\t 342 & 495 & NA     & NA\\\\\n",
       "\t 419 & 419 & NA     & NA\\\\\n",
       "\t 408 & 451 & 61,984 & 2 \\\\\n",
       "\\end{tabular}\n"
      ],
      "text/markdown": [
       "\n",
       "A tibble: 350 × 4\n",
       "\n",
       "| current_rank &lt;chr&gt; | best_rank &lt;chr&gt; | prize_money &lt;chr&gt; | Seasons &lt;chr&gt; |\n",
       "|---|---|---|---|\n",
       "| 17  | 183 | 6,091,971 | 11 |\n",
       "| 31  | 31  | 1,517,157 | 5  |\n",
       "| 213 | 307 | 278,709   | 1  |\n",
       "| ⋮ | ⋮ | ⋮ | ⋮ |\n",
       "| 342 | 495 | NA     | NA |\n",
       "| 419 | 419 | NA     | NA |\n",
       "| 408 | 451 | 61,984 | 2  |\n",
       "\n"
      ],
      "text/plain": [
       "    current_rank best_rank prize_money Seasons\n",
       "1   17           183       6,091,971   11     \n",
       "2   31           31        1,517,157   5      \n",
       "3   213          307       278,709     1      \n",
       "⋮   ⋮            ⋮         ⋮           ⋮      \n",
       "348 342          495       NA          NA     \n",
       "349 419          419       NA          NA     \n",
       "350 408          451       61,984      2      "
      ]
     },
     "metadata": {},
     "output_type": "display_data"
    },
    {
     "data": {
      "text/html": [
       "<table>\n",
       "<caption>A tibble: 150 × 4</caption>\n",
       "<thead>\n",
       "\t<tr><th scope=col>current_rank</th><th scope=col>best_rank</th><th scope=col>prize_money</th><th scope=col>Seasons</th></tr>\n",
       "\t<tr><th scope=col>&lt;chr&gt;</th><th scope=col>&lt;chr&gt;</th><th scope=col>&lt;chr&gt;</th><th scope=col>&lt;chr&gt;</th></tr>\n",
       "</thead>\n",
       "<tbody>\n",
       "\t<tr><td>363</td><td>378</td><td>NA       </td><td>NA</td></tr>\n",
       "\t<tr><td>316</td><td>326</td><td>59,040   </td><td>NA</td></tr>\n",
       "\t<tr><td>44 </td><td>178</td><td>3,261,567</td><td>14</td></tr>\n",
       "\t<tr><td>⋮</td><td>⋮</td><td>⋮</td><td>⋮</td></tr>\n",
       "\t<tr><td>58 </td><td>71 </td><td>1,703,096</td><td>7 </td></tr>\n",
       "\t<tr><td>394</td><td>397</td><td>40,724   </td><td>1 </td></tr>\n",
       "\t<tr><td>380</td><td>382</td><td>57,943   </td><td>NA</td></tr>\n",
       "</tbody>\n",
       "</table>\n"
      ],
      "text/latex": [
       "A tibble: 150 × 4\n",
       "\\begin{tabular}{llll}\n",
       " current\\_rank & best\\_rank & prize\\_money & Seasons\\\\\n",
       " <chr> & <chr> & <chr> & <chr>\\\\\n",
       "\\hline\n",
       "\t 363 & 378 & NA        & NA\\\\\n",
       "\t 316 & 326 & 59,040    & NA\\\\\n",
       "\t 44  & 178 & 3,261,567 & 14\\\\\n",
       "\t ⋮ & ⋮ & ⋮ & ⋮\\\\\n",
       "\t 58  & 71  & 1,703,096 & 7 \\\\\n",
       "\t 394 & 397 & 40,724    & 1 \\\\\n",
       "\t 380 & 382 & 57,943    & NA\\\\\n",
       "\\end{tabular}\n"
      ],
      "text/markdown": [
       "\n",
       "A tibble: 150 × 4\n",
       "\n",
       "| current_rank &lt;chr&gt; | best_rank &lt;chr&gt; | prize_money &lt;chr&gt; | Seasons &lt;chr&gt; |\n",
       "|---|---|---|---|\n",
       "| 363 | 378 | NA        | NA |\n",
       "| 316 | 326 | 59,040    | NA |\n",
       "| 44  | 178 | 3,261,567 | 14 |\n",
       "| ⋮ | ⋮ | ⋮ | ⋮ |\n",
       "| 58  | 71  | 1,703,096 | 7  |\n",
       "| 394 | 397 | 40,724    | 1  |\n",
       "| 380 | 382 | 57,943    | NA |\n",
       "\n"
      ],
      "text/plain": [
       "    current_rank best_rank prize_money Seasons\n",
       "1   363          378       NA          NA     \n",
       "2   316          326       59,040      NA     \n",
       "3   44           178       3,261,567   14     \n",
       "⋮   ⋮            ⋮         ⋮           ⋮      \n",
       "148 58           71        1,703,096   7      \n",
       "149 394          397       40,724      1      \n",
       "150 380          382       57,943      NA     "
      ]
     },
     "metadata": {},
     "output_type": "display_data"
    }
   ],
   "source": [
    "#create_training_data\n",
    "player_stats_split <- initial_split(player_stats_mutate, prop = 0.70, strata = prize_money)\n",
    "player_train <- training(player_stats_split)\n",
    "player_test <- testing(player_stats_split)\n",
    "\n",
    "\n",
    "player_train\n",
    "player_test"
   ]
  },
  {
   "cell_type": "code",
   "execution_count": null,
   "metadata": {},
   "outputs": [],
   "source": []
  }
 ],
 "metadata": {
  "kernelspec": {
   "display_name": "R",
   "language": "R",
   "name": "ir"
  },
  "language_info": {
   "codemirror_mode": "r",
   "file_extension": ".r",
   "mimetype": "text/x-r-source",
   "name": "R",
   "pygments_lexer": "r",
   "version": "4.0.0"
  }
 },
 "nbformat": 4,
 "nbformat_minor": 4
}
